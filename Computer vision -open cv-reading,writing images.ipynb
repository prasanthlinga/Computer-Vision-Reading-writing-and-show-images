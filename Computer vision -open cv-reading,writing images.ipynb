{
 "cells": [
  {
   "cell_type": "code",
   "execution_count": 1,
   "metadata": {},
   "outputs": [],
   "source": [
    "import cv2\n"
   ]
  },
  {
   "cell_type": "code",
   "execution_count": 2,
   "metadata": {},
   "outputs": [
    {
     "name": "stdout",
     "output_type": "stream",
     "text": [
      "[[[174 166 153]\n",
      "  [174 166 153]\n",
      "  [174 166 153]\n",
      "  ...\n",
      "  [110 138 155]\n",
      "  [112 140 157]\n",
      "  [113 141 158]]\n",
      "\n",
      " [[174 166 153]\n",
      "  [174 166 153]\n",
      "  [173 165 152]\n",
      "  ...\n",
      "  [112 140 157]\n",
      "  [113 141 158]\n",
      "  [112 140 157]]\n",
      "\n",
      " [[174 166 153]\n",
      "  [174 166 153]\n",
      "  [174 166 153]\n",
      "  ...\n",
      "  [109 137 154]\n",
      "  [112 140 157]\n",
      "  [113 141 158]]\n",
      "\n",
      " ...\n",
      "\n",
      " [[129 129 129]\n",
      "  [131 130 132]\n",
      "  [141 140 142]\n",
      "  ...\n",
      "  [147 157 167]\n",
      "  [143 153 163]\n",
      "  [143 153 163]]\n",
      "\n",
      " [[128 128 128]\n",
      "  [129 129 129]\n",
      "  [136 135 137]\n",
      "  ...\n",
      "  [135 145 155]\n",
      "  [138 148 158]\n",
      "  [138 148 158]]\n",
      "\n",
      " [[170 170 170]\n",
      "  [164 164 164]\n",
      "  [161 160 162]\n",
      "  ...\n",
      "  [128 138 148]\n",
      "  [131 141 151]\n",
      "  [131 141 151]]]\n"
     ]
    }
   ],
   "source": [
    "input=cv2.imread(r\"C:\\\\Users\\\\prasa\\\\OneDrive\\\\Desktop\\\\photo.JPG\",-1) # to read/ load an image   \n",
    "# 0 indicates gray scale image\n",
    "#1 indicates colour image\n",
    "#-1 indiactes colour image with alpha channel\n",
    "print(input)\n"
   ]
  },
  {
   "cell_type": "code",
   "execution_count": null,
   "metadata": {},
   "outputs": [],
   "source": []
  },
  {
   "cell_type": "code",
   "execution_count": 3,
   "metadata": {},
   "outputs": [],
   "source": [
    "#input2=cv2.imread(\"nasa_3.jpg\")   # nasa_3 pic since i changed from heic to jpg, the image is corrupted.(may be)"
   ]
  },
  {
   "cell_type": "code",
   "execution_count": 4,
   "metadata": {},
   "outputs": [],
   "source": [
    "cv2.imshow(\"cinemark pic_1\", input)  #first parameter is title of image and second is image variable\n",
    "cv2.waitKey(1000)   #for 1000ms image will shown and then destroy\n",
    "cv2.destroyAllWindows()\n"
   ]
  },
  {
   "cell_type": "code",
   "execution_count": 5,
   "metadata": {},
   "outputs": [],
   "source": [
    "cv2.imshow(\"cinemark pic_2\", input)  #first parameter is title of image and second is image variable\n",
    "k=cv2.waitKey() \n",
    "if k==27:#until we press any key on keyboard , imag will be shown\n",
    "    cv2.destroyAllWindows()\n",
    "elif k==ord(\"d\"):\n",
    "    cv2.imwrite(\"photo_3.jpeg\",input)\n",
    "    cv2.destroyAllWindows()\n",
    "    \n",
    "\n"
   ]
  },
  {
   "cell_type": "code",
   "execution_count": 6,
   "metadata": {},
   "outputs": [
    {
     "name": "stdout",
     "output_type": "stream",
     "text": [
      "(1824, 4000, 3)\n"
     ]
    }
   ],
   "source": [
    "import numpy as np\n",
    "print(input.shape)    #(a,b,c)  a-height  b-width  c-no.of channels\n",
    "#since it is a colour image  it has 3 channels\n",
    "#height and width are in pixels"
   ]
  },
  {
   "cell_type": "code",
   "execution_count": 7,
   "metadata": {},
   "outputs": [],
   "source": [
    "cv2.destroyAllWindows()"
   ]
  },
  {
   "cell_type": "code",
   "execution_count": 8,
   "metadata": {},
   "outputs": [
    {
     "name": "stdout",
     "output_type": "stream",
     "text": [
      "height:1824 and width:4000\n"
     ]
    }
   ],
   "source": [
    "print(\"height:{0} and width:{1}\".format(input.shape[0],input.shape[1]))"
   ]
  },
  {
   "cell_type": "code",
   "execution_count": 9,
   "metadata": {},
   "outputs": [
    {
     "data": {
      "text/plain": [
       "True"
      ]
     },
     "execution_count": 9,
     "metadata": {},
     "output_type": "execute_result"
    }
   ],
   "source": [
    "cv2.imwrite(\"output.png\",input) # we can save images in different formats\n"
   ]
  },
  {
   "cell_type": "code",
   "execution_count": 10,
   "metadata": {},
   "outputs": [
    {
     "data": {
      "text/plain": [
       "True"
      ]
     },
     "execution_count": 10,
     "metadata": {},
     "output_type": "execute_result"
    }
   ],
   "source": [
    "cv2.imwrite(\"output2.jpeg\",input)"
   ]
  },
  {
   "cell_type": "code",
   "execution_count": 11,
   "metadata": {},
   "outputs": [
    {
     "data": {
      "text/plain": [
       "array([[[1., 1., 1.],\n",
       "        [1., 1., 1.],\n",
       "        [1., 1., 1.],\n",
       "        [1., 1., 1.]]])"
      ]
     },
     "execution_count": 11,
     "metadata": {},
     "output_type": "execute_result"
    }
   ],
   "source": [
    "import numpy as np\n",
    "np.ones((1,4,3))"
   ]
  },
  {
   "cell_type": "code",
   "execution_count": 12,
   "metadata": {},
   "outputs": [
    {
     "data": {
      "text/plain": [
       "array([[0., 0., 0., 0., 0., 0., 0.],\n",
       "       [0., 0., 0., 0., 0., 0., 0.]])"
      ]
     },
     "execution_count": 12,
     "metadata": {},
     "output_type": "execute_result"
    }
   ],
   "source": [
    "np.empty((2,7))"
   ]
  },
  {
   "cell_type": "code",
   "execution_count": 13,
   "metadata": {},
   "outputs": [
    {
     "data": {
      "text/plain": [
       "array([1, 3])"
      ]
     },
     "execution_count": 13,
     "metadata": {},
     "output_type": "execute_result"
    }
   ],
   "source": [
    "np.arange(1,5,2)     #(b/w 1 to 5 in steps of 2)"
   ]
  },
  {
   "cell_type": "code",
   "execution_count": 14,
   "metadata": {},
   "outputs": [
    {
     "data": {
      "text/plain": [
       "array([1.        , 2.33333333, 3.66666667, 5.        ])"
      ]
     },
     "execution_count": 14,
     "metadata": {},
     "output_type": "execute_result"
    }
   ],
   "source": [
    "np.linspace(1,5,4)  # 4 numbers from 1 to 5"
   ]
  },
  {
   "cell_type": "code",
   "execution_count": null,
   "metadata": {},
   "outputs": [],
   "source": []
  },
  {
   "cell_type": "code",
   "execution_count": null,
   "metadata": {},
   "outputs": [],
   "source": []
  }
 ],
 "metadata": {
  "kernelspec": {
   "display_name": "Python 3",
   "language": "python",
   "name": "python3"
  },
  "language_info": {
   "codemirror_mode": {
    "name": "ipython",
    "version": 3
   },
   "file_extension": ".py",
   "mimetype": "text/x-python",
   "name": "python",
   "nbconvert_exporter": "python",
   "pygments_lexer": "ipython3",
   "version": "3.8.5"
  }
 },
 "nbformat": 4,
 "nbformat_minor": 4
}
